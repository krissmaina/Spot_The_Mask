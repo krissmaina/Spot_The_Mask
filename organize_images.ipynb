{
 "cells": [
  {
   "cell_type": "markdown",
   "id": "f90d46f7",
   "metadata": {},
   "source": [
    "# Organize Images\n",
    "Since we cant load all the images to memory for training. It is better to organize the image directory so that we can use the `image_generator.flow_from_directory` method.\n",
    "\n",
    "This notebook will organize the images directory such that\n",
    "- images:\n",
    "    - training\n",
    "        - train\n",
    "            - mask\n",
    "            - unmask\n",
    "        - validation\n",
    "            - mask\n",
    "            - unmask\n",
    "    - test\n",
    "    \n",
    "**This notebook is meant to be run once, otherwise you will encounter an error**"
   ]
  },
  {
   "cell_type": "code",
   "execution_count": 1,
   "id": "8542141c",
   "metadata": {},
   "outputs": [],
   "source": [
    "import pandas as pd\n",
    "import shutil\n",
    "import os\n",
    "\n",
    "from sklearn.model_selection import train_test_split"
   ]
  },
  {
   "cell_type": "code",
   "execution_count": 2,
   "id": "cd9de01c",
   "metadata": {},
   "outputs": [],
   "source": [
    "df = pd.read_csv('train_labels.csv')"
   ]
  },
  {
   "cell_type": "code",
   "execution_count": 3,
   "id": "d9eb4478",
   "metadata": {},
   "outputs": [
    {
     "data": {
      "text/html": [
       "<div>\n",
       "<style scoped>\n",
       "    .dataframe tbody tr th:only-of-type {\n",
       "        vertical-align: middle;\n",
       "    }\n",
       "\n",
       "    .dataframe tbody tr th {\n",
       "        vertical-align: top;\n",
       "    }\n",
       "\n",
       "    .dataframe thead th {\n",
       "        text-align: right;\n",
       "    }\n",
       "</style>\n",
       "<table border=\"1\" class=\"dataframe\">\n",
       "  <thead>\n",
       "    <tr style=\"text-align: right;\">\n",
       "      <th></th>\n",
       "      <th>image</th>\n",
       "      <th>target</th>\n",
       "    </tr>\n",
       "  </thead>\n",
       "  <tbody>\n",
       "    <tr>\n",
       "      <th>0</th>\n",
       "      <td>tfymlmdkpzkqdjhdxyhnoeuqszxphw.jpg</td>\n",
       "      <td>0</td>\n",
       "    </tr>\n",
       "    <tr>\n",
       "      <th>1</th>\n",
       "      <td>rxgismgsvmaayzjarbfjaljhqmpbrt.jpg</td>\n",
       "      <td>1</td>\n",
       "    </tr>\n",
       "    <tr>\n",
       "      <th>2</th>\n",
       "      <td>uuzshfrhkgrkolhwdvliqauzulurnz.jpg</td>\n",
       "      <td>0</td>\n",
       "    </tr>\n",
       "    <tr>\n",
       "      <th>3</th>\n",
       "      <td>mjspxsagzusaznvnyxgamtrlqkqklp.jpg</td>\n",
       "      <td>0</td>\n",
       "    </tr>\n",
       "    <tr>\n",
       "      <th>4</th>\n",
       "      <td>rlbmuajgezfiddjzlyeoupxpqubkpt.jpg</td>\n",
       "      <td>1</td>\n",
       "    </tr>\n",
       "  </tbody>\n",
       "</table>\n",
       "</div>"
      ],
      "text/plain": [
       "                                image  target\n",
       "0  tfymlmdkpzkqdjhdxyhnoeuqszxphw.jpg       0\n",
       "1  rxgismgsvmaayzjarbfjaljhqmpbrt.jpg       1\n",
       "2  uuzshfrhkgrkolhwdvliqauzulurnz.jpg       0\n",
       "3  mjspxsagzusaznvnyxgamtrlqkqklp.jpg       0\n",
       "4  rlbmuajgezfiddjzlyeoupxpqubkpt.jpg       1"
      ]
     },
     "execution_count": 3,
     "metadata": {},
     "output_type": "execute_result"
    }
   ],
   "source": [
    "df.head()"
   ]
  },
  {
   "cell_type": "code",
   "execution_count": 4,
   "id": "ba0a0743",
   "metadata": {},
   "outputs": [],
   "source": [
    "# splitting the data to have training data and validation data\n",
    "train_df, validation_df = train_test_split(df, test_size=0.2)"
   ]
  },
  {
   "cell_type": "code",
   "execution_count": 5,
   "id": "0a7ca804",
   "metadata": {},
   "outputs": [],
   "source": [
    "# separate the dataframe to people who have a mask with people who dont have\n",
    "train_unmask = list(train_df[train_df['target'] == 0]['image'])\n",
    "train_mask = list(train_df[train_df['target']==1]['image'])\n",
    "\n",
    "validation_unmask = list(validation_df[validation_df['target'] == 0]['image'])\n",
    "validation_mask = list(validation_df[validation_df['target'] == 1]['image'])"
   ]
  },
  {
   "cell_type": "code",
   "execution_count": 6,
   "id": "bae008ef",
   "metadata": {},
   "outputs": [],
   "source": [
    "# create a training directory\n",
    "training_path = \"images/training/\"\n",
    "os.mkdir(training_path)\n",
    "\n",
    "# create a train and validation directory inside the training directory\n",
    "train_path = \"images/training/train\"\n",
    "validation_path = \"images/training/validation\"\n",
    "os.mkdir(train_path)\n",
    "os.mkdir(validation_path)\n",
    "\n",
    "# create the mask and unmask directories inside the train and validation directory\n",
    "train_mask_path = \"images/training/train/mask/\"\n",
    "train_unmask_path = \"images/training/train/unmask/\"\n",
    "os.mkdir(train_mask_path)\n",
    "os.mkdir(train_unmask_path)\n",
    "\n",
    "validation_mask_path = \"images/training/validation/mask/\"\n",
    "validation_unmask_path = \"images/training/validation/unmask/\"\n",
    "os.mkdir(validation_mask_path)\n",
    "os.mkdir(validation_unmask_path)\n",
    "\n",
    "# create the test directory\n",
    "test_path = \"images/test/\"\n",
    "os.mkdir(test_path)\n"
   ]
  },
  {
   "cell_type": "code",
   "execution_count": 7,
   "id": "728b3a6b",
   "metadata": {},
   "outputs": [],
   "source": [
    "def move_files_to_directory(files, directory_path):\n",
    "    \"\"\"\n",
    "    Given a list of files, this function moves them to `directory_path`.\n",
    "    \n",
    "    \"\"\"\n",
    "    for file in files:\n",
    "        previous = f\"images/{file}\"\n",
    "        after = directory_path\n",
    "        shutil.move(previous, after)\n",
    "        "
   ]
  },
  {
   "cell_type": "code",
   "execution_count": 8,
   "id": "1b5a24aa",
   "metadata": {},
   "outputs": [],
   "source": [
    "# moving the train and validation images to their respective directories \n",
    "move_files_to_directory(train_mask, train_mask_path)\n",
    "move_files_to_directory(train_unmask, train_unmask_path)\n",
    "\n",
    "move_files_to_directory(validation_mask, validation_mask_path)\n",
    "move_files_to_directory(validation_unmask, validation_unmask_path)\n"
   ]
  },
  {
   "cell_type": "code",
   "execution_count": 10,
   "id": "498afbc7",
   "metadata": {},
   "outputs": [],
   "source": [
    "ss = pd.read_csv('SampleSubmission.csv')"
   ]
  },
  {
   "cell_type": "code",
   "execution_count": 11,
   "id": "7a845a85",
   "metadata": {},
   "outputs": [
    {
     "data": {
      "text/html": [
       "<div>\n",
       "<style scoped>\n",
       "    .dataframe tbody tr th:only-of-type {\n",
       "        vertical-align: middle;\n",
       "    }\n",
       "\n",
       "    .dataframe tbody tr th {\n",
       "        vertical-align: top;\n",
       "    }\n",
       "\n",
       "    .dataframe thead th {\n",
       "        text-align: right;\n",
       "    }\n",
       "</style>\n",
       "<table border=\"1\" class=\"dataframe\">\n",
       "  <thead>\n",
       "    <tr style=\"text-align: right;\">\n",
       "      <th></th>\n",
       "      <th>image</th>\n",
       "      <th>target</th>\n",
       "    </tr>\n",
       "  </thead>\n",
       "  <tbody>\n",
       "    <tr>\n",
       "      <th>0</th>\n",
       "      <td>aadawlxbmapqrblgxyzarhjasgiobu.png</td>\n",
       "      <td>0</td>\n",
       "    </tr>\n",
       "    <tr>\n",
       "      <th>1</th>\n",
       "      <td>abpxvdfyhaaohzcrngcucmhffwizxs.jpg</td>\n",
       "      <td>0</td>\n",
       "    </tr>\n",
       "    <tr>\n",
       "      <th>2</th>\n",
       "      <td>aclkjfvackiieiznzfcwienplielrj.jpg</td>\n",
       "      <td>0</td>\n",
       "    </tr>\n",
       "    <tr>\n",
       "      <th>3</th>\n",
       "      <td>aelkivmayxgsdjosiibfgmkvfrjvjk.jpg</td>\n",
       "      <td>0</td>\n",
       "    </tr>\n",
       "    <tr>\n",
       "      <th>4</th>\n",
       "      <td>aelzzshpfxerelefnkatpczktuxjln.jpg</td>\n",
       "      <td>0</td>\n",
       "    </tr>\n",
       "  </tbody>\n",
       "</table>\n",
       "</div>"
      ],
      "text/plain": [
       "                                image  target\n",
       "0  aadawlxbmapqrblgxyzarhjasgiobu.png       0\n",
       "1  abpxvdfyhaaohzcrngcucmhffwizxs.jpg       0\n",
       "2  aclkjfvackiieiznzfcwienplielrj.jpg       0\n",
       "3  aelkivmayxgsdjosiibfgmkvfrjvjk.jpg       0\n",
       "4  aelzzshpfxerelefnkatpczktuxjln.jpg       0"
      ]
     },
     "execution_count": 11,
     "metadata": {},
     "output_type": "execute_result"
    }
   ],
   "source": [
    "ss.head()"
   ]
  },
  {
   "cell_type": "code",
   "execution_count": 12,
   "id": "8fec7b56",
   "metadata": {},
   "outputs": [],
   "source": [
    "test_files = list(ss['image'])"
   ]
  },
  {
   "cell_type": "code",
   "execution_count": 15,
   "id": "30a518a1",
   "metadata": {},
   "outputs": [],
   "source": [
    "# images_files = os.listdir('images/')\n",
    "# for file in test_files:\n",
    "#     if file not in images_files:\n",
    "#         print(f\"{file} not in image files\")\n",
    "\n",
    "# all the test images are in place "
   ]
  },
  {
   "cell_type": "code",
   "execution_count": 16,
   "id": "8f3e49d7",
   "metadata": {},
   "outputs": [],
   "source": [
    "# move the test images to the test directory\n",
    "move_files_to_directory(test_files, test_path)"
   ]
  },
  {
   "cell_type": "code",
   "execution_count": null,
   "id": "5dee5581",
   "metadata": {},
   "outputs": [],
   "source": []
  }
 ],
 "metadata": {
  "kernelspec": {
   "display_name": "Python 3 (ipykernel)",
   "language": "python",
   "name": "python3"
  },
  "language_info": {
   "codemirror_mode": {
    "name": "ipython",
    "version": 3
   },
   "file_extension": ".py",
   "mimetype": "text/x-python",
   "name": "python",
   "nbconvert_exporter": "python",
   "pygments_lexer": "ipython3",
   "version": "3.9.12"
  }
 },
 "nbformat": 4,
 "nbformat_minor": 5
}
