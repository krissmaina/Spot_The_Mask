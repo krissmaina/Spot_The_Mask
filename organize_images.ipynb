{
 "cells": [
  {
   "cell_type": "markdown",
   "id": "f90d46f7",
   "metadata": {},
   "source": [
    "# Organize Images\n",
    "This notebook will organize the images directory such that\n",
    "- images:\n",
    "    - train\n",
    "        - mask\n",
    "        - unmask\n",
    "    - test\n",
    "    \n",
    "**This notebook is meant to be run once, otherwise you will encounter an error**"
   ]
  },
  {
   "cell_type": "code",
   "execution_count": 1,
   "id": "8542141c",
   "metadata": {},
   "outputs": [],
   "source": [
    "import pandas as pd\n",
    "import shutil\n",
    "import os"
   ]
  },
  {
   "cell_type": "code",
   "execution_count": 2,
   "id": "cd9de01c",
   "metadata": {},
   "outputs": [],
   "source": [
    "df = pd.read_csv('train_labels.csv')"
   ]
  },
  {
   "cell_type": "code",
   "execution_count": 3,
   "id": "d9eb4478",
   "metadata": {},
   "outputs": [
    {
     "data": {
      "text/html": [
       "<div>\n",
       "<style scoped>\n",
       "    .dataframe tbody tr th:only-of-type {\n",
       "        vertical-align: middle;\n",
       "    }\n",
       "\n",
       "    .dataframe tbody tr th {\n",
       "        vertical-align: top;\n",
       "    }\n",
       "\n",
       "    .dataframe thead th {\n",
       "        text-align: right;\n",
       "    }\n",
       "</style>\n",
       "<table border=\"1\" class=\"dataframe\">\n",
       "  <thead>\n",
       "    <tr style=\"text-align: right;\">\n",
       "      <th></th>\n",
       "      <th>image</th>\n",
       "      <th>target</th>\n",
       "    </tr>\n",
       "  </thead>\n",
       "  <tbody>\n",
       "    <tr>\n",
       "      <th>0</th>\n",
       "      <td>tfymlmdkpzkqdjhdxyhnoeuqszxphw.jpg</td>\n",
       "      <td>0</td>\n",
       "    </tr>\n",
       "    <tr>\n",
       "      <th>1</th>\n",
       "      <td>rxgismgsvmaayzjarbfjaljhqmpbrt.jpg</td>\n",
       "      <td>1</td>\n",
       "    </tr>\n",
       "    <tr>\n",
       "      <th>2</th>\n",
       "      <td>uuzshfrhkgrkolhwdvliqauzulurnz.jpg</td>\n",
       "      <td>0</td>\n",
       "    </tr>\n",
       "    <tr>\n",
       "      <th>3</th>\n",
       "      <td>mjspxsagzusaznvnyxgamtrlqkqklp.jpg</td>\n",
       "      <td>0</td>\n",
       "    </tr>\n",
       "    <tr>\n",
       "      <th>4</th>\n",
       "      <td>rlbmuajgezfiddjzlyeoupxpqubkpt.jpg</td>\n",
       "      <td>1</td>\n",
       "    </tr>\n",
       "  </tbody>\n",
       "</table>\n",
       "</div>"
      ],
      "text/plain": [
       "                                image  target\n",
       "0  tfymlmdkpzkqdjhdxyhnoeuqszxphw.jpg       0\n",
       "1  rxgismgsvmaayzjarbfjaljhqmpbrt.jpg       1\n",
       "2  uuzshfrhkgrkolhwdvliqauzulurnz.jpg       0\n",
       "3  mjspxsagzusaznvnyxgamtrlqkqklp.jpg       0\n",
       "4  rlbmuajgezfiddjzlyeoupxpqubkpt.jpg       1"
      ]
     },
     "execution_count": 3,
     "metadata": {},
     "output_type": "execute_result"
    }
   ],
   "source": [
    "df.head()"
   ]
  },
  {
   "cell_type": "code",
   "execution_count": 4,
   "id": "0a7ca804",
   "metadata": {},
   "outputs": [],
   "source": [
    "# separate the dataframe to people who have a mask with people who dont have\n",
    "unmask = list(df[df['target'] == 0]['image'])\n",
    "mask = list(df[df['target']==1]['image'])"
   ]
  },
  {
   "cell_type": "code",
   "execution_count": 5,
   "id": "bae008ef",
   "metadata": {},
   "outputs": [],
   "source": [
    "# create a train directory\n",
    "train_path = \"images/train\"\n",
    "os.mkdir(train_path)\n",
    "\n",
    "mask_path = \"images/train/mask/\"\n",
    "unmask_path = \"images/train/unmask/\"\n",
    "test_path = \"images/test/\"\n",
    "\n",
    "# make the directories mask, unmask and test\n",
    "os.mkdir(mask_path)\n",
    "os.mkdir(unmask_path)\n",
    "os.mkdir(test_path)"
   ]
  },
  {
   "cell_type": "code",
   "execution_count": 6,
   "id": "728b3a6b",
   "metadata": {},
   "outputs": [],
   "source": [
    "def move_files_to_directory(files, directory_path):\n",
    "    \"\"\"\n",
    "    Given a list of files, this function moves them to `directory_path`.\n",
    "    \n",
    "    \"\"\"\n",
    "    for file in files:\n",
    "        previous = f\"images/{file}\"\n",
    "        after = directory_path\n",
    "        shutil.move(previous, after)\n",
    "        "
   ]
  },
  {
   "cell_type": "code",
   "execution_count": 7,
   "id": "1b5a24aa",
   "metadata": {},
   "outputs": [],
   "source": [
    "# moving images with masks -> mask_path\n",
    "move_files_to_directory(mask, mask_path)\n",
    "\n",
    "# moving images without masks -> unmask_path\n",
    "move_files_to_directory(unmask, unmask_path)"
   ]
  },
  {
   "cell_type": "code",
   "execution_count": 15,
   "id": "752e13da",
   "metadata": {},
   "outputs": [],
   "source": [
    "for filename in os.listdir('images/'):\n",
    "    if filename not in ['train', 'test']:\n",
    "        shutil.move(f'images/{filename}', f'images/test/')"
   ]
  },
  {
   "cell_type": "code",
   "execution_count": null,
   "id": "5dee5581",
   "metadata": {},
   "outputs": [],
   "source": []
  }
 ],
 "metadata": {
  "kernelspec": {
   "display_name": "Python 3 (ipykernel)",
   "language": "python",
   "name": "python3"
  },
  "language_info": {
   "codemirror_mode": {
    "name": "ipython",
    "version": 3
   },
   "file_extension": ".py",
   "mimetype": "text/x-python",
   "name": "python",
   "nbconvert_exporter": "python",
   "pygments_lexer": "ipython3",
   "version": "3.9.12"
  }
 },
 "nbformat": 4,
 "nbformat_minor": 5
}
